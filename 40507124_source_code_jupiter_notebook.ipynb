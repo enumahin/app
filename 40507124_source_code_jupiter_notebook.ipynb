{
 "cells": [
  {
   "cell_type": "code",
   "execution_count": 159,
   "id": "3dafbd4e",
   "metadata": {},
   "outputs": [],
   "source": [
    "import pandas as pd\n",
    "import numpy as np\n",
    "import matplotlib.pyplot as plt\n",
    "from sklearn.impute import SimpleImputer\n",
    "import random\n",
    "from sklearn.preprocessing import LabelEncoder\n",
    "from sklearn.model_selection import train_test_split\n",
    "from sklearn import metrics\n",
    "from sklearn.ensemble import RandomForestClassifier\n",
    "from sklearn.metrics import classification_report, confusion_matrix\n",
    "from sklearn.model_selection import GridSearchCV\n",
    "import seaborn as sns\n",
    "import matplotlib.pyplot as plt"
   ]
  },
  {
   "cell_type": "markdown",
   "id": "e2f5d675",
   "metadata": {},
   "source": [
    "## Data Wrangling"
   ]
  },
  {
   "cell_type": "code",
   "execution_count": 160,
   "id": "82854ad5",
   "metadata": {},
   "outputs": [],
   "source": [
    "# Reading dataset file\n",
    "df = pd.read_excel(\"real_data_app_enumah.xlsx\")\n",
    "# Saving a copy of original file\n"
   ]
  },
  {
   "cell_type": "code",
   "execution_count": 333,
   "id": "037ef756",
   "metadata": {},
   "outputs": [
    {
     "data": {
      "text/html": [
       "<div>\n",
       "<style scoped>\n",
       "    .dataframe tbody tr th:only-of-type {\n",
       "        vertical-align: middle;\n",
       "    }\n",
       "\n",
       "    .dataframe tbody tr th {\n",
       "        vertical-align: top;\n",
       "    }\n",
       "\n",
       "    .dataframe thead th {\n",
       "        text-align: right;\n",
       "    }\n",
       "</style>\n",
       "<table border=\"1\" class=\"dataframe\">\n",
       "  <thead>\n",
       "    <tr style=\"text-align: right;\">\n",
       "      <th></th>\n",
       "      <th>state</th>\n",
       "      <th>facilityID</th>\n",
       "      <th>vl_Count</th>\n",
       "      <th>status_at</th>\n",
       "      <th>current_Age</th>\n",
       "      <th>age_Group</th>\n",
       "      <th>sex</th>\n",
       "      <th>art_Start_Date</th>\n",
       "      <th>status_at_18_months</th>\n",
       "      <th>Total_Visits</th>\n",
       "      <th>...</th>\n",
       "      <th>height</th>\n",
       "      <th>current_Regimen_Line</th>\n",
       "      <th>pregnancy_Status</th>\n",
       "      <th>inh_Start_to_Now</th>\n",
       "      <th>regimen_Switch</th>\n",
       "      <th>vl_Indication</th>\n",
       "      <th>regimen_Line_At_Start</th>\n",
       "      <th>regimen_At_Start</th>\n",
       "      <th>patientLga</th>\n",
       "      <th>bmi</th>\n",
       "    </tr>\n",
       "  </thead>\n",
       "  <tbody>\n",
       "    <tr>\n",
       "      <th>0</th>\n",
       "      <td>Delta</td>\n",
       "      <td>195.0</td>\n",
       "      <td>0.0</td>\n",
       "      <td>Active</td>\n",
       "      <td>25.0</td>\n",
       "      <td>25 - 29</td>\n",
       "      <td>M</td>\n",
       "      <td>2020-07-01 00:00:00</td>\n",
       "      <td>Active</td>\n",
       "      <td>1</td>\n",
       "      <td>...</td>\n",
       "      <td>178.0</td>\n",
       "      <td>Adult 1st line ARV regimen</td>\n",
       "      <td>NaN</td>\n",
       "      <td>300.0</td>\n",
       "      <td>Refill</td>\n",
       "      <td>Initial</td>\n",
       "      <td>Adult 1st line ARV regimen</td>\n",
       "      <td>TDF-3TC-DTG</td>\n",
       "      <td>zGkO37K5oGlUm+1MpGswOw==</td>\n",
       "      <td>overweight</td>\n",
       "    </tr>\n",
       "    <tr>\n",
       "      <th>1</th>\n",
       "      <td>Delta</td>\n",
       "      <td>195.0</td>\n",
       "      <td>20548.0</td>\n",
       "      <td>Active</td>\n",
       "      <td>31.0</td>\n",
       "      <td>30 - 34</td>\n",
       "      <td>F</td>\n",
       "      <td>2020-07-01 00:00:00</td>\n",
       "      <td>Active</td>\n",
       "      <td>1</td>\n",
       "      <td>...</td>\n",
       "      <td>180.0</td>\n",
       "      <td>Adult 1st line ARV regimen</td>\n",
       "      <td>NaN</td>\n",
       "      <td>300.0</td>\n",
       "      <td>Refill</td>\n",
       "      <td>Initial</td>\n",
       "      <td>Adult 1st line ARV regimen</td>\n",
       "      <td>TDF-3TC-DTG</td>\n",
       "      <td>zGkO37K5oGlUm+1MpGswOw==</td>\n",
       "      <td>healthy</td>\n",
       "    </tr>\n",
       "    <tr>\n",
       "      <th>2</th>\n",
       "      <td>Delta</td>\n",
       "      <td>195.0</td>\n",
       "      <td>40.0</td>\n",
       "      <td>Active</td>\n",
       "      <td>36.0</td>\n",
       "      <td>35 - 39</td>\n",
       "      <td>F</td>\n",
       "      <td>2020-07-01 00:00:00</td>\n",
       "      <td>Active</td>\n",
       "      <td>1</td>\n",
       "      <td>...</td>\n",
       "      <td>185.0</td>\n",
       "      <td>Adult 1st line ARV regimen</td>\n",
       "      <td>NaN</td>\n",
       "      <td>300.0</td>\n",
       "      <td>Refill</td>\n",
       "      <td>Initial</td>\n",
       "      <td>Adult 1st line ARV regimen</td>\n",
       "      <td>TDF-3TC-DTG</td>\n",
       "      <td>evsQliC9pvsbXMH4LEecEA==</td>\n",
       "      <td>healthy</td>\n",
       "    </tr>\n",
       "    <tr>\n",
       "      <th>3</th>\n",
       "      <td>Delta</td>\n",
       "      <td>195.0</td>\n",
       "      <td>0.0</td>\n",
       "      <td>Active</td>\n",
       "      <td>21.0</td>\n",
       "      <td>20 - 24</td>\n",
       "      <td>M</td>\n",
       "      <td>2020-07-02 00:00:00</td>\n",
       "      <td>Active</td>\n",
       "      <td>1</td>\n",
       "      <td>...</td>\n",
       "      <td>185.0</td>\n",
       "      <td>Adult 1st line ARV regimen</td>\n",
       "      <td>NaN</td>\n",
       "      <td>300.0</td>\n",
       "      <td>Refill</td>\n",
       "      <td>Initial</td>\n",
       "      <td>Adult 1st line ARV regimen</td>\n",
       "      <td>TDF-3TC-DTG</td>\n",
       "      <td>+uRRED1bmmjG78m2IgRA1g==</td>\n",
       "      <td>healthy</td>\n",
       "    </tr>\n",
       "    <tr>\n",
       "      <th>4</th>\n",
       "      <td>Delta</td>\n",
       "      <td>195.0</td>\n",
       "      <td>0.0</td>\n",
       "      <td>Active</td>\n",
       "      <td>41.0</td>\n",
       "      <td>40 - 44</td>\n",
       "      <td>M</td>\n",
       "      <td>2020-07-02 00:00:00</td>\n",
       "      <td>Active</td>\n",
       "      <td>1</td>\n",
       "      <td>...</td>\n",
       "      <td>185.0</td>\n",
       "      <td>Adult 1st line ARV regimen</td>\n",
       "      <td>NaN</td>\n",
       "      <td>300.0</td>\n",
       "      <td>Refill</td>\n",
       "      <td>Initial</td>\n",
       "      <td>Adult 1st line ARV regimen</td>\n",
       "      <td>TDF-3TC-DTG</td>\n",
       "      <td>+uRRED1bmmjG78m2IgRA1g==</td>\n",
       "      <td>healthy</td>\n",
       "    </tr>\n",
       "  </tbody>\n",
       "</table>\n",
       "<p>5 rows × 32 columns</p>\n",
       "</div>"
      ],
      "text/plain": [
       "   state  facilityID  vl_Count status_at  current_Age age_Group sex  \\\n",
       "0  Delta       195.0       0.0    Active         25.0   25 - 29   M   \n",
       "1  Delta       195.0   20548.0    Active         31.0   30 - 34   F   \n",
       "2  Delta       195.0      40.0    Active         36.0   35 - 39   F   \n",
       "3  Delta       195.0       0.0    Active         21.0   20 - 24   M   \n",
       "4  Delta       195.0       0.0    Active         41.0   40 - 44   M   \n",
       "\n",
       "        art_Start_Date status_at_18_months  Total_Visits  ... height  \\\n",
       "0  2020-07-01 00:00:00              Active             1  ...  178.0   \n",
       "1  2020-07-01 00:00:00              Active             1  ...  180.0   \n",
       "2  2020-07-01 00:00:00              Active             1  ...  185.0   \n",
       "3  2020-07-02 00:00:00              Active             1  ...  185.0   \n",
       "4  2020-07-02 00:00:00              Active             1  ...  185.0   \n",
       "\n",
       "         current_Regimen_Line pregnancy_Status  inh_Start_to_Now  \\\n",
       "0  Adult 1st line ARV regimen              NaN             300.0   \n",
       "1  Adult 1st line ARV regimen              NaN             300.0   \n",
       "2  Adult 1st line ARV regimen              NaN             300.0   \n",
       "3  Adult 1st line ARV regimen              NaN             300.0   \n",
       "4  Adult 1st line ARV regimen              NaN             300.0   \n",
       "\n",
       "  regimen_Switch  vl_Indication       regimen_Line_At_Start regimen_At_Start  \\\n",
       "0         Refill        Initial  Adult 1st line ARV regimen      TDF-3TC-DTG   \n",
       "1         Refill        Initial  Adult 1st line ARV regimen      TDF-3TC-DTG   \n",
       "2         Refill        Initial  Adult 1st line ARV regimen      TDF-3TC-DTG   \n",
       "3         Refill        Initial  Adult 1st line ARV regimen      TDF-3TC-DTG   \n",
       "4         Refill        Initial  Adult 1st line ARV regimen      TDF-3TC-DTG   \n",
       "\n",
       "                 patientLga         bmi  \n",
       "0  zGkO37K5oGlUm+1MpGswOw==  overweight  \n",
       "1  zGkO37K5oGlUm+1MpGswOw==     healthy  \n",
       "2  evsQliC9pvsbXMH4LEecEA==     healthy  \n",
       "3  +uRRED1bmmjG78m2IgRA1g==     healthy  \n",
       "4  +uRRED1bmmjG78m2IgRA1g==     healthy  \n",
       "\n",
       "[5 rows x 32 columns]"
      ]
     },
     "execution_count": 333,
     "metadata": {},
     "output_type": "execute_result"
    }
   ],
   "source": [
    "data = df.copy(deep=True)\n",
    "# Printing top 5 rows\n",
    "data.head()"
   ]
  },
  {
   "cell_type": "code",
   "execution_count": 334,
   "id": "bf1cd68f",
   "metadata": {},
   "outputs": [
    {
     "data": {
      "text/plain": [
       "state                                   651\n",
       "facilityID                              481\n",
       "vl_Count                             514822\n",
       "status_at                            465753\n",
       "current_Age                            7598\n",
       "age_Group                              7598\n",
       "sex                                     627\n",
       "art_Start_Date                       472598\n",
       "status_at_18_months                  464552\n",
       "Total_Visits                              0\n",
       "patientID                               642\n",
       "drug_Duration                        465447\n",
       "regimen_Dispensed                    465537\n",
       "number_of_Days_Missed_Appointment    465753\n",
       "last_Drug_Pickup_Date                465363\n",
       "biometric                                 0\n",
       "age_At_Art_Start                     472661\n",
       "facilityLgaID                           495\n",
       "defaultID                               760\n",
       "careEntryPoint                       284274\n",
       "who_Stage                            434025\n",
       "weight                               439919\n",
       "height                               478814\n",
       "current_Regimen_Line                 464275\n",
       "pregnancy_Status                     514282\n",
       "inh_Start_to_Now                     524840\n",
       "regimen_Switch                       471190\n",
       "vl_Indication                        521567\n",
       "regimen_Line_At_Start                489845\n",
       "regimen_At_Start                     490311\n",
       "patientLga                            22231\n",
       "bmi                                     805\n",
       "dtype: int64"
      ]
     },
     "execution_count": 334,
     "metadata": {},
     "output_type": "execute_result"
    }
   ],
   "source": [
    "# Checking columns for missing values\n",
    "data.isna().sum()"
   ]
  },
  {
   "cell_type": "code",
   "execution_count": 335,
   "id": "7d83db4d",
   "metadata": {},
   "outputs": [
    {
     "data": {
      "text/plain": [
       "OPD           99654\n",
       "Outreach      82023\n",
       "CBO           50393\n",
       "VCT           30232\n",
       "ANC            2863\n",
       "COMMUNITY      2420\n",
       "CT             2187\n",
       "Other          1106\n",
       "L&D             818\n",
       "TB              541\n",
       "SPOKE SITE      480\n",
       "Name: careEntryPoint, dtype: int64"
      ]
     },
     "execution_count": 335,
     "metadata": {},
     "output_type": "execute_result"
    }
   ],
   "source": [
    "data[\"careEntryPoint\"] = data[\"careEntryPoint\"].replace(\"Outreach-program\",\"Outreach\")\n",
    "data[\"careEntryPoint\"] = data[\"careEntryPoint\"].replace(\"COMMUNITY TESTING\",\"COMMUNITY\")\n",
    "data[\"careEntryPoint\"] = data[\"careEntryPoint\"].replace(\"community\",\"COMMUNITY\")\n",
    "data[\"careEntryPoint\"] = data[\"careEntryPoint\"].replace(\"COMMUNITY TESTERS\",\"COMMUNITY\")\n",
    "data[\"careEntryPoint\"] = data[\"careEntryPoint\"].replace(\"COMMUNITY TESTER\",\"COMMUNITY\")\n",
    "data[\"careEntryPoint\"] = data[\"careEntryPoint\"].replace(\"Community-ART\",\"COMMUNITY\")\n",
    "data[\"careEntryPoint\"] = data[\"careEntryPoint\"].replace(\"Community\",\"COMMUNITY\")\n",
    "data[\"careEntryPoint\"] = data[\"careEntryPoint\"].replace(\"ct\",\"COMMUNITY\")\n",
    "data[\"careEntryPoint\"] = data[\"careEntryPoint\"].replace(\"CB\",\"CBO\")\n",
    "data[\"careEntryPoint\"] = data[\"careEntryPoint\"].replace(\"cbo\",\"CBO\")\n",
    "data[\"careEntryPoint\"] = data[\"careEntryPoint\"].replace(\"CB O\",\"CBO\")\n",
    "data[\"careEntryPoint\"] = data[\"careEntryPoint\"].replace(\"cb\",\"CBO\")\n",
    "data[\"careEntryPoint\"] = data[\"careEntryPoint\"].replace(\"CBO TESTING\",\"CBO\")\n",
    "data[\"careEntryPoint\"] = data[\"careEntryPoint\"].replace(\"CBO KWALE\",\"CBO\")\n",
    "data[\"careEntryPoint\"] = data[\"careEntryPoint\"].replace(\"CB0\",\"CBO\")\n",
    "data[\"careEntryPoint\"] = data[\"careEntryPoint\"].replace(\"COB\",\"CBO\")\n",
    "data[\"careEntryPoint\"] = data[\"careEntryPoint\"].replace(\"SPOKE\",\"SPOKE SITE\")\n",
    "data[\"careEntryPoint\"] = data[\"careEntryPoint\"].replace(\"SPOKES\",\"SPOKE SITE\")\n",
    "data[\"careEntryPoint\"] = data[\"careEntryPoint\"].replace(\"SPOKE TESTING\",\"SPOKE SITE\")\n",
    "data[\"careEntryPoint\"] = data[\"careEntryPoint\"].replace(\"SPOKE INDEX\",\"SPOKE SITE\")\n",
    "data[\"careEntryPoint\"] = data[\"careEntryPoint\"].replace(\"ANC/PMTCT\",\"ANC\")\n",
    "\n",
    "data[\"careEntryPoint\"].value_counts().nlargest(11)"
   ]
  },
  {
   "cell_type": "code",
   "execution_count": 336,
   "id": "77faaee4",
   "metadata": {},
   "outputs": [],
   "source": [
    "\n",
    "\n",
    "# pd.read_excel(\"real_data_app_enumah.xlsx\")"
   ]
  },
  {
   "cell_type": "code",
   "execution_count": 337,
   "id": "103f228b",
   "metadata": {},
   "outputs": [],
   "source": [
    "# Remove unnecessary columns such as IDs, dates etc\n",
    "data = data.drop(['defaultID', 'patientID', 'facilityID', 'art_Start_Date', 'patientLga',\n",
    "                 'last_Drug_Pickup_Date', 'facilityLgaID', 'number_of_Days_Missed_Appointment', \"status_at\", \"current_Age\",\"weight\",\"height\"], axis = 1)"
   ]
  },
  {
   "cell_type": "code",
   "execution_count": 338,
   "id": "4abd04af",
   "metadata": {},
   "outputs": [
    {
     "data": {
      "text/plain": [
       "state                     object\n",
       "vl_Count                 float64\n",
       "age_Group                 object\n",
       "sex                       object\n",
       "status_at_18_months       object\n",
       "Total_Visits               int64\n",
       "drug_Duration            float64\n",
       "regimen_Dispensed         object\n",
       "biometric                   bool\n",
       "age_At_Art_Start         float64\n",
       "careEntryPoint            object\n",
       "who_Stage                float64\n",
       "current_Regimen_Line      object\n",
       "pregnancy_Status          object\n",
       "inh_Start_to_Now         float64\n",
       "regimen_Switch            object\n",
       "vl_Indication             object\n",
       "regimen_Line_At_Start     object\n",
       "regimen_At_Start          object\n",
       "bmi                       object\n",
       "dtype: object"
      ]
     },
     "execution_count": 338,
     "metadata": {},
     "output_type": "execute_result"
    }
   ],
   "source": [
    "# Checking data type of each column to see if there is any mismatch\n",
    "data.dtypes"
   ]
  },
  {
   "cell_type": "code",
   "execution_count": 339,
   "id": "790ec18d",
   "metadata": {},
   "outputs": [
    {
     "name": "stdout",
     "output_type": "stream",
     "text": [
      "Column: state\n",
      "['Delta' 'Imo' 'Enugu' nan]\n",
      "\n",
      "Column: age_Group\n",
      "['25 - 29' '30 - 34' '35 - 39' '20 - 24' '40 - 44' '15 - 19' '45 - 49'\n",
      " '>=50' datetime.datetime(2023, 1, 4, 0, 0)\n",
      " datetime.datetime(2023, 10, 14, 0, 0) datetime.datetime(2023, 5, 9, 0, 0)\n",
      " '<1' nan]\n",
      "\n",
      "Column: sex\n",
      "['M' 'F' nan]\n",
      "\n",
      "Column: status_at_18_months\n",
      "['Active' 'LTFU' 'Missed Appointment' 'Returned to care' 'Restarted'\n",
      " 'Transferred out' 'Death' nan 'Discontinued Care']\n",
      "\n",
      "Column: regimen_Dispensed\n",
      "['TDF-3TC-DTG' 'TDF-FTC-DTG' 'TDF-3TC-AZT' 'TDF-FTC-NVP' nan\n",
      " 'TDF-3TC-ATV/r' 'AZT-3TC-NVP' 'TDF-3TC-EFV' 'AZT-3TC-DTG' 'ABC-3TC-NVP'\n",
      " 'AZT-3TC-ATV/r' 'D4T-3TC-NVP' 'ABC-3TC-ATV/r' 'ABC-3TC-EFV' 'TDF-3TC-NVP'\n",
      " 'ABC-3TC-LPV/r' 'ABC-3TC-DTG' 'D4T-3TC-EFV' 'AZT-3TC-EFV' 'TDF-3TC-LPV/r'\n",
      " 'TDF-FTC-EFV' 'AZT-3TC-LPV/r' 'Dolutegravir' 'ABC-3TC-DTG-ATV/r'\n",
      " 'AZT-TDF-3TC-LPV/r' 'ABC-3TC-AZT' 'DDI-3TC-EFV' 'ABC-FTC-DTG'\n",
      " 'Single dose Nevirapine' 'TDF-FTC-LPV/r' 'D4T-3TC-LPV/r' 'ABC-DDI-LPV/r']\n",
      "\n",
      "Column: careEntryPoint\n",
      "['Outreach' 'STI' nan 'VCT' 'OPD' 'L&D' 'CBO' 'CT' 'ANC' 'TB' 'Other'\n",
      " 'COMMUNITY' 'EBO' 'FP' 'CHILDREN OPD' 'C BO' 'CHO' 'AFH1548' 342 'CFBO'\n",
      " 'AFF' 'anc' 'CCBO' 'CBPO' 'AGBOR' 'CBOI' 'AFH' 'CBOO' 'TRANSFER IN'\n",
      " 'SPOKE SITE' 'COMMUNTY TESTERS' 'spoke' 'Index' 'INDEX' 'INDEX TESTING'\n",
      " 'community testing' 'CCOMMUNITY TESTING' 'COMMUNITY INDEX'\n",
      " \"St Mary's Hospital\" 'salvation Hospital' 'PNS' 'St Juliana Maternity'\n",
      " \"St Mary's Umuowa\" 'ST Mary Umuowa' 'Chuks Lab'\n",
      " 'Mother of Mercy Hospital' 'Mother of Mercy' 'Juliana'\n",
      " 'St Juliana Materity Orlu' \"St Juliana's Maternity\"\n",
      " 'Government Maternity.' 'Madonai Hall' 'St Juliana' 'Salvation Hospital'\n",
      " \"St Mary's Hosp\" 'TRANSFERED IN' 'CCT' 'LABORATORY' 'PMTCT' 'ITS' 1\n",
      " 'transfer in' 'IT' 'COM' 'LAB' '3CD' '3cd' 'INDEX-TESTING' 'SPOKE-SITE'\n",
      " 'HEALTH CENTRE' 'V' 'community index' '369/06/21'\n",
      " 'x-special/nautilus-clipboard copy file:///home/caritas/Desktop/Weekly%20reports%20117/WEEK%20117%20Team%20Work-Daily%20%20Report-DAY%203%20-FY21%20BREMA%20HOSP%20KWALE.xlsx'\n",
      " '`Community' 'crt' 'GENOLOGY' 'ANNC' 'COMMUNITY TESSTING'\n",
      " 'COMMUNNITY TESTING' 'INDEX TEXTING' 'COMMUNITY TESTINH'\n",
      " 'CLOMMUNITY TESTING' 'COM/02/32/2021_HTS' 'COMMUNITU'\n",
      " 'COMMUNITY  TESTING' 'COMMUNITY TEST' 'COM TST' 'COM-TST'\n",
      " 'EXPACT ROVING TEAM' 'TRANSFER- IN' 'RIVERINE COMMUNITY TESTING'\n",
      " 'PESSU COMMUNITY TESTING' 'ENERHEN COMMUNITY' 'ENERHEN COMMUNITY TESTING'\n",
      " 'TRANSFER-IN' 'CBO-UZO-UWANI' 'UZO-UWANI' 'MOP' 'MOPD' 'SOP' 'GOPD'\n",
      " 'GYNAE' 'COMM' 'COMMUNITY-TESTING']\n",
      "\n",
      "Column: current_Regimen_Line\n",
      "['Adult 1st line ARV regimen' 'TDF-3TC-DTG' nan\n",
      " 'Adult 2nd line ARV regimen' 'Child 1st line ARV regimen'\n",
      " 'Child 2nd line ARV regimen' 'Adult 3rd Line ARV Regimens' 'TDF-3TC-EFV'\n",
      " 'AZT-3TC-EFV' 'AZT-3TC-NVP' 'TDF-3TC-NVP' 'D4T-3TC-NVP' 'D4T-3TC-EFV'\n",
      " 'ABC-3TC-DTG' 'ABC-3TC-LPV/r' 'TDF-3TC-ATV/r' 'ABC-3TC-NVP' 'TDF-FTC-EFV'\n",
      " 'TDF-FTC-DTG' 'TDF-3TC-AZT' 'AZT-3TC-LPV/r' 'ABC-3TC-AZT' 'TDF-FTC-NVP']\n",
      "\n",
      "Column: pregnancy_Status\n",
      "[nan 'Not Pregnant' 'Pregnant' 'PMTCT' 'Breastfeeding' 'Unknown']\n",
      "\n",
      "Column: regimen_Switch\n",
      "['Refill' 'New' nan 'Substitution' 'Switch' 'Pregnant']\n",
      "\n",
      "Column: vl_Indication\n",
      "['Initial' nan 'Repeat' 'Normal priority (status)' 'Confirmation'\n",
      " 'PMTCT, 32 - 36 weeks gestation' 'Clinical failure']\n",
      "\n",
      "Column: regimen_Line_At_Start\n",
      "['Adult 1st line ARV regimen' nan 'Child 1st line ARV regimen'\n",
      " 'Child 2nd line ARV regimen' 'Adult 3rd Line ARV Regimens'\n",
      " 'Adult 2nd line ARV regimen']\n",
      "\n",
      "Column: regimen_At_Start\n",
      "['TDF-3TC-DTG' 'ABC-FTC-DTG' nan 'TDF-3TC-EFV' 'AZT-3TC-NVP' 'D4T-3TC-NVP'\n",
      " 'TDF-3TC-NVP' 'ABC-3TC-LPV/r' 'ABC-3TC-DTG' 'AZT-3TC-DTG' 'TDF-FTC-EFV'\n",
      " 'AZT-3TC-EFV' 'ABC-3TC-NVP' 'TDF-3TC-LPV/r' 'ABC-3TC-EFV' 'D4T-3TC-EFV'\n",
      " 'TDF-FTC-NVP' 'AZT-3TC-LPV/r' 'AZT-TDF-NVP' 'TDF-FTC-DTG' 'AZT-3TC-ATV/r'\n",
      " 'DDI-3TC-NVP' 'TDF-3TC-AZT' 'ABC-3TC-ATV/r' 'TDF-3TC-ATV/r' 'ABC-3TC-AZT'\n",
      " 'ABC-3TC-DDI' 'DDI-3TC-EFV' 'AZT-TDF-3TC-LPV/r' 'TDF-FTC-ATV/r'\n",
      " 'TDF-3TC-DRV/r' 'TDF-FTC-LPV/r' 'ABC-DDI-LPV/r' 'TDF-AZT-3TC-ATV/r'\n",
      " 'D4T-3TC-LPV/r']\n",
      "\n",
      "Column: bmi\n",
      "['overweight' 'healthy' 'underweight' nan 'obesity' 'severe obesity']\n",
      "\n"
     ]
    }
   ],
   "source": [
    "# Iterate over each column in the DataFrame\n",
    "for column in data.columns:\n",
    "    # Check if the column is of categorical data type\n",
    "    if data[column].dtype == 'object':\n",
    "        # Print the column name\n",
    "        print(f\"Column: {column}\")\n",
    "        # Print the unique values in the column\n",
    "        print(data[column].unique())\n",
    "        print()"
   ]
  },
  {
   "cell_type": "code",
   "execution_count": 340,
   "id": "9ddfbbf0",
   "metadata": {},
   "outputs": [],
   "source": [
    "# Cleaning the categorical columns\n",
    "data['status_at_18_months'] = data['status_at_18_months'].replace('Inactive', 'InActive')\n",
    "data['regimen_At_Start'] = data['regimen_At_Start'].str.replace('/r', '')\n",
    "data['current_Regimen_Line'] = data['current_Regimen_Line'].str.replace('/r', '')\n",
    "data['regimen_Dispensed'] = data['regimen_Dispensed'].str.replace('/r', '')"
   ]
  },
  {
   "cell_type": "code",
   "execution_count": 341,
   "id": "fb1f2a91",
   "metadata": {},
   "outputs": [],
   "source": [
    "# Removing Invalid age groups from the data\n",
    "valid_age_groups = ['25 - 29', '30 - 34', '35 - 39', '20 - 24', '40 - 44', '15 - 19', '45 - 49','>=50', 'nan']\n",
    "data = data[data['age_Group'].isin(valid_age_groups)]"
   ]
  },
  {
   "cell_type": "code",
   "execution_count": 342,
   "id": "74a9c38a",
   "metadata": {},
   "outputs": [],
   "source": [
    "# Remove Invalid Entry Point\n",
    "valid_cep = [\"OPD\",\"Outreach\", \"CBO\",\"VCT\",\"COMMUNITY\",\"ANC\",\"Other\",\"L&D\",\"TB\",\"SPOKE SITE\",\"PMTCT\"]\n",
    "data = data[data['careEntryPoint'].isin(valid_cep)]"
   ]
  },
  {
   "cell_type": "code",
   "execution_count": null,
   "id": "502c5808",
   "metadata": {},
   "outputs": [],
   "source": []
  },
  {
   "cell_type": "code",
   "execution_count": 343,
   "id": "d672b9ad",
   "metadata": {},
   "outputs": [
    {
     "data": {
      "text/plain": [
       "1    130208\n",
       "3     90919\n",
       "2     39193\n",
       "Name: Total_Visits, dtype: int64"
      ]
     },
     "execution_count": 343,
     "metadata": {},
     "output_type": "execute_result"
    }
   ],
   "source": [
    "# Checking distribution of total visits column\n",
    "data['Total_Visits'].value_counts()"
   ]
  },
  {
   "cell_type": "code",
   "execution_count": 344,
   "id": "6725eda5",
   "metadata": {},
   "outputs": [],
   "source": [
    "# Separate numeric and categorical columns\n",
    "numeric_cols = data.select_dtypes(include=np.number).columns\n",
    "categorical_cols = data.select_dtypes(exclude=np.number).columns\n",
    "\n",
    "# Impute missing values in numeric columns with mean\n",
    "numeric_imputer = SimpleImputer(strategy='mean')\n",
    "imputed_numeric = numeric_imputer.fit_transform(data[numeric_cols])\n",
    "\n",
    "# Impute missing values in categorical columns with most frequent\n",
    "categorical_imputer = SimpleImputer(strategy='most_frequent')\n",
    "imputed_categorical = categorical_imputer.fit_transform(data[categorical_cols])"
   ]
  },
  {
   "cell_type": "code",
   "execution_count": 345,
   "id": "2da7d125",
   "metadata": {},
   "outputs": [
    {
     "data": {
      "text/html": [
       "<div>\n",
       "<style scoped>\n",
       "    .dataframe tbody tr th:only-of-type {\n",
       "        vertical-align: middle;\n",
       "    }\n",
       "\n",
       "    .dataframe tbody tr th {\n",
       "        vertical-align: top;\n",
       "    }\n",
       "\n",
       "    .dataframe thead th {\n",
       "        text-align: right;\n",
       "    }\n",
       "</style>\n",
       "<table border=\"1\" class=\"dataframe\">\n",
       "  <thead>\n",
       "    <tr style=\"text-align: right;\">\n",
       "      <th></th>\n",
       "      <th>vl_Count</th>\n",
       "      <th>Total_Visits</th>\n",
       "      <th>drug_Duration</th>\n",
       "      <th>age_At_Art_Start</th>\n",
       "      <th>who_Stage</th>\n",
       "      <th>inh_Start_to_Now</th>\n",
       "      <th>state</th>\n",
       "      <th>age_Group</th>\n",
       "      <th>sex</th>\n",
       "      <th>status_at_18_months</th>\n",
       "      <th>regimen_Dispensed</th>\n",
       "      <th>biometric</th>\n",
       "      <th>careEntryPoint</th>\n",
       "      <th>current_Regimen_Line</th>\n",
       "      <th>pregnancy_Status</th>\n",
       "      <th>regimen_Switch</th>\n",
       "      <th>vl_Indication</th>\n",
       "      <th>regimen_Line_At_Start</th>\n",
       "      <th>regimen_At_Start</th>\n",
       "      <th>bmi</th>\n",
       "    </tr>\n",
       "  </thead>\n",
       "  <tbody>\n",
       "    <tr>\n",
       "      <th>0</th>\n",
       "      <td>0.0</td>\n",
       "      <td>1.0</td>\n",
       "      <td>180.0</td>\n",
       "      <td>23.0</td>\n",
       "      <td>1.0</td>\n",
       "      <td>300.0</td>\n",
       "      <td>Delta</td>\n",
       "      <td>25 - 29</td>\n",
       "      <td>M</td>\n",
       "      <td>Active</td>\n",
       "      <td>TDF-3TC-DTG</td>\n",
       "      <td>True</td>\n",
       "      <td>Outreach</td>\n",
       "      <td>Adult 1st line ARV regimen</td>\n",
       "      <td>Not Pregnant</td>\n",
       "      <td>Refill</td>\n",
       "      <td>Initial</td>\n",
       "      <td>Adult 1st line ARV regimen</td>\n",
       "      <td>TDF-3TC-DTG</td>\n",
       "      <td>overweight</td>\n",
       "    </tr>\n",
       "    <tr>\n",
       "      <th>1</th>\n",
       "      <td>20548.0</td>\n",
       "      <td>1.0</td>\n",
       "      <td>180.0</td>\n",
       "      <td>29.0</td>\n",
       "      <td>1.0</td>\n",
       "      <td>300.0</td>\n",
       "      <td>Delta</td>\n",
       "      <td>30 - 34</td>\n",
       "      <td>F</td>\n",
       "      <td>Active</td>\n",
       "      <td>TDF-3TC-DTG</td>\n",
       "      <td>True</td>\n",
       "      <td>Outreach</td>\n",
       "      <td>Adult 1st line ARV regimen</td>\n",
       "      <td>Not Pregnant</td>\n",
       "      <td>Refill</td>\n",
       "      <td>Initial</td>\n",
       "      <td>Adult 1st line ARV regimen</td>\n",
       "      <td>TDF-3TC-DTG</td>\n",
       "      <td>healthy</td>\n",
       "    </tr>\n",
       "    <tr>\n",
       "      <th>2</th>\n",
       "      <td>40.0</td>\n",
       "      <td>1.0</td>\n",
       "      <td>180.0</td>\n",
       "      <td>35.0</td>\n",
       "      <td>1.0</td>\n",
       "      <td>300.0</td>\n",
       "      <td>Delta</td>\n",
       "      <td>35 - 39</td>\n",
       "      <td>F</td>\n",
       "      <td>Active</td>\n",
       "      <td>TDF-3TC-DTG</td>\n",
       "      <td>True</td>\n",
       "      <td>Outreach</td>\n",
       "      <td>Adult 1st line ARV regimen</td>\n",
       "      <td>Not Pregnant</td>\n",
       "      <td>Refill</td>\n",
       "      <td>Initial</td>\n",
       "      <td>Adult 1st line ARV regimen</td>\n",
       "      <td>TDF-3TC-DTG</td>\n",
       "      <td>healthy</td>\n",
       "    </tr>\n",
       "    <tr>\n",
       "      <th>3</th>\n",
       "      <td>0.0</td>\n",
       "      <td>1.0</td>\n",
       "      <td>180.0</td>\n",
       "      <td>20.0</td>\n",
       "      <td>1.0</td>\n",
       "      <td>300.0</td>\n",
       "      <td>Delta</td>\n",
       "      <td>20 - 24</td>\n",
       "      <td>M</td>\n",
       "      <td>Active</td>\n",
       "      <td>TDF-3TC-DTG</td>\n",
       "      <td>True</td>\n",
       "      <td>Outreach</td>\n",
       "      <td>Adult 1st line ARV regimen</td>\n",
       "      <td>Not Pregnant</td>\n",
       "      <td>Refill</td>\n",
       "      <td>Initial</td>\n",
       "      <td>Adult 1st line ARV regimen</td>\n",
       "      <td>TDF-3TC-DTG</td>\n",
       "      <td>healthy</td>\n",
       "    </tr>\n",
       "    <tr>\n",
       "      <th>4</th>\n",
       "      <td>0.0</td>\n",
       "      <td>1.0</td>\n",
       "      <td>180.0</td>\n",
       "      <td>40.0</td>\n",
       "      <td>1.0</td>\n",
       "      <td>300.0</td>\n",
       "      <td>Delta</td>\n",
       "      <td>40 - 44</td>\n",
       "      <td>M</td>\n",
       "      <td>Active</td>\n",
       "      <td>TDF-3TC-DTG</td>\n",
       "      <td>True</td>\n",
       "      <td>Outreach</td>\n",
       "      <td>Adult 1st line ARV regimen</td>\n",
       "      <td>Not Pregnant</td>\n",
       "      <td>Refill</td>\n",
       "      <td>Initial</td>\n",
       "      <td>Adult 1st line ARV regimen</td>\n",
       "      <td>TDF-3TC-DTG</td>\n",
       "      <td>healthy</td>\n",
       "    </tr>\n",
       "  </tbody>\n",
       "</table>\n",
       "</div>"
      ],
      "text/plain": [
       "   vl_Count  Total_Visits  drug_Duration  age_At_Art_Start  who_Stage  \\\n",
       "0       0.0           1.0          180.0              23.0        1.0   \n",
       "1   20548.0           1.0          180.0              29.0        1.0   \n",
       "2      40.0           1.0          180.0              35.0        1.0   \n",
       "3       0.0           1.0          180.0              20.0        1.0   \n",
       "4       0.0           1.0          180.0              40.0        1.0   \n",
       "\n",
       "   inh_Start_to_Now  state age_Group sex status_at_18_months  \\\n",
       "0             300.0  Delta   25 - 29   M              Active   \n",
       "1             300.0  Delta   30 - 34   F              Active   \n",
       "2             300.0  Delta   35 - 39   F              Active   \n",
       "3             300.0  Delta   20 - 24   M              Active   \n",
       "4             300.0  Delta   40 - 44   M              Active   \n",
       "\n",
       "  regimen_Dispensed biometric careEntryPoint        current_Regimen_Line  \\\n",
       "0       TDF-3TC-DTG      True       Outreach  Adult 1st line ARV regimen   \n",
       "1       TDF-3TC-DTG      True       Outreach  Adult 1st line ARV regimen   \n",
       "2       TDF-3TC-DTG      True       Outreach  Adult 1st line ARV regimen   \n",
       "3       TDF-3TC-DTG      True       Outreach  Adult 1st line ARV regimen   \n",
       "4       TDF-3TC-DTG      True       Outreach  Adult 1st line ARV regimen   \n",
       "\n",
       "  pregnancy_Status regimen_Switch vl_Indication       regimen_Line_At_Start  \\\n",
       "0     Not Pregnant         Refill       Initial  Adult 1st line ARV regimen   \n",
       "1     Not Pregnant         Refill       Initial  Adult 1st line ARV regimen   \n",
       "2     Not Pregnant         Refill       Initial  Adult 1st line ARV regimen   \n",
       "3     Not Pregnant         Refill       Initial  Adult 1st line ARV regimen   \n",
       "4     Not Pregnant         Refill       Initial  Adult 1st line ARV regimen   \n",
       "\n",
       "  regimen_At_Start         bmi  \n",
       "0      TDF-3TC-DTG  overweight  \n",
       "1      TDF-3TC-DTG     healthy  \n",
       "2      TDF-3TC-DTG     healthy  \n",
       "3      TDF-3TC-DTG     healthy  \n",
       "4      TDF-3TC-DTG     healthy  "
      ]
     },
     "execution_count": 345,
     "metadata": {},
     "output_type": "execute_result"
    }
   ],
   "source": [
    "# Create a DataFrame with imputed numeric columns\n",
    "imputed_df_num = pd.DataFrame(imputed_numeric, columns=numeric_cols)\n",
    "\n",
    "# Create a DataFrame with imputed categorical columns\n",
    "imputed_df_cat = pd.DataFrame(imputed_categorical, columns=categorical_cols)\n",
    "\n",
    "# Concatenate imputed numeric columns with categorical columns\n",
    "data_imputed = pd.concat([imputed_df_num, imputed_df_cat], axis=1)\n",
    "\n",
    "data_imputed.head()"
   ]
  },
  {
   "cell_type": "code",
   "execution_count": 346,
   "id": "e694188c",
   "metadata": {},
   "outputs": [
    {
     "data": {
      "text/plain": [
       "Active                250631\n",
       "Missed Appointment      5951\n",
       "LTFU                    2526\n",
       "Restarted                863\n",
       "Death                    135\n",
       "Transferred out          127\n",
       "Discontinued Care         70\n",
       "Returned to care          17\n",
       "Name: status_at_18_months, dtype: int64"
      ]
     },
     "execution_count": 346,
     "metadata": {},
     "output_type": "execute_result"
    }
   ],
   "source": [
    "# Check frequency distribution of current status column\n",
    "data_imputed['status_at_18_months'].value_counts()"
   ]
  },
  {
   "cell_type": "code",
   "execution_count": 347,
   "id": "9dc909ba",
   "metadata": {},
   "outputs": [
    {
     "data": {
      "text/plain": [
       "Active      257462\n",
       "InActive      2858\n",
       "Name: status_at_18_months, dtype: int64"
      ]
     },
     "execution_count": 347,
     "metadata": {},
     "output_type": "execute_result"
    }
   ],
   "source": [
    "# Converting current status to two possible categories that are active and inactive\n",
    "data_imputed['status_at_18_months'] = data_imputed['status_at_18_months'].replace('Missed Appointment', 'Active')\n",
    "data_imputed['status_at_18_months'] = data_imputed['status_at_18_months'].replace('Restarted', 'Active')\n",
    "data_imputed['status_at_18_months'] = data_imputed['status_at_18_months'].replace('Active', 'Active')\n",
    "data_imputed['status_at_18_months'] = data_imputed['status_at_18_months'].replace('Returned to care', 'Active')\n",
    "data_imputed['status_at_18_months'] = data_imputed['status_at_18_months'].replace('Death', 'InActive')\n",
    "data_imputed['status_at_18_months'] = data_imputed['status_at_18_months'].replace('Discontinued Care', 'InActive')\n",
    "data_imputed['status_at_18_months'] = data_imputed['status_at_18_months'].replace('Transferred out', 'InActive')\n",
    "data_imputed['status_at_18_months'] = data_imputed['status_at_18_months'].replace('LTFU', 'InActive')\n",
    "# Check frequency distribution of current status column\n",
    "data_imputed['status_at_18_months'].value_counts()"
   ]
  },
  {
   "cell_type": "code",
   "execution_count": 348,
   "id": "e70b7e32",
   "metadata": {},
   "outputs": [
    {
     "data": {
      "text/plain": [
       "healthy           135494\n",
       "underweight       116006\n",
       "overweight          7117\n",
       "obesity             1500\n",
       "severe obesity       203\n",
       "Name: bmi, dtype: int64"
      ]
     },
     "execution_count": 348,
     "metadata": {},
     "output_type": "execute_result"
    }
   ],
   "source": [
    "data_imputed[\"bmi\"].value_counts()\n",
    "# data_imputed[\"age_At_Art_Start\"].value_counts()\n",
    "# data_imputed[\"careEntryPoint\"].value_counts()\n",
    "# data_imputed[\"state\"].value_counts()\n",
    "# data_imputed[\"vl_Count\"].value_counts()\n",
    "# data_imputed[\"age_Group\"].value_counts()\n",
    "# data_imputed[\"who_Stage\"].value_counts()\n",
    "# data_imputed[\"biometric\"].value_counts()"
   ]
  },
  {
   "cell_type": "code",
   "execution_count": 349,
   "id": "862ca69b",
   "metadata": {},
   "outputs": [
    {
     "data": {
      "text/plain": [
       "(237236, 20)"
      ]
     },
     "execution_count": 349,
     "metadata": {},
     "output_type": "execute_result"
    }
   ],
   "source": [
    "# Calculate z-scores for each numerical column\n",
    "z_scores = data_imputed.select_dtypes(include=np.number).apply(lambda x: np.abs((x - x.mean()) / x.std()))\n",
    "\n",
    "# Define a threshold for outlier detection (e.g., z-score > 3)\n",
    "threshold = 3\n",
    "\n",
    "# Remove rows with outliers in numerical columns\n",
    "df_no_outliers = data_imputed[(z_scores < threshold).all(axis=1)]\n",
    "\n",
    "# Check final shape of data\n",
    "df_no_outliers.shape"
   ]
  },
  {
   "cell_type": "code",
   "execution_count": 350,
   "id": "66da6c15",
   "metadata": {},
   "outputs": [
    {
     "data": {
      "text/plain": [
       "healthy           120783\n",
       "underweight       112814\n",
       "overweight          2936\n",
       "obesity              636\n",
       "severe obesity        67\n",
       "Name: bmi, dtype: int64"
      ]
     },
     "execution_count": 350,
     "metadata": {},
     "output_type": "execute_result"
    }
   ],
   "source": [
    "df_no_outliers[\"bmi\"].value_counts()"
   ]
  },
  {
   "cell_type": "code",
   "execution_count": 351,
   "id": "2a9c1318",
   "metadata": {},
   "outputs": [],
   "source": [
    "# Copy out data for the second model\n",
    "df_model_2 = df_no_outliers.copy(deep=True)\n",
    "df_no_outliers.to_csv(\"Final_Cleaned_Data.csv\")\n",
    "# X_current_Status = df_no_outliers[['current_Status']]\n",
    "X_status_at_18_months = df_no_outliers[['status_at_18_months']]\n",
    "df_no_outliers = df_no_outliers.drop(['status_at_18_months', 'Total_Visits'], axis = 1)"
   ]
  },
  {
   "cell_type": "code",
   "execution_count": null,
   "id": "f33fc6d2",
   "metadata": {},
   "outputs": [],
   "source": []
  },
  {
   "cell_type": "code",
   "execution_count": 352,
   "id": "663cc9e6",
   "metadata": {},
   "outputs": [],
   "source": [
    "# Label encoding all numeric columns\n",
    "# Iterate over each column in the DataFrame\n",
    "for column in df_no_outliers.select_dtypes(include='object').columns:\n",
    "    le = LabelEncoder()\n",
    "    df_no_outliers[column] = le.fit_transform(df_no_outliers[column].astype(str))"
   ]
  },
  {
   "cell_type": "code",
   "execution_count": 353,
   "id": "f25f61d4",
   "metadata": {},
   "outputs": [
    {
     "data": {
      "text/plain": [
       "Index(['vl_Count', 'drug_Duration', 'age_At_Art_Start', 'who_Stage',\n",
       "       'inh_Start_to_Now', 'state', 'age_Group', 'sex', 'regimen_Dispensed',\n",
       "       'biometric', 'careEntryPoint', 'current_Regimen_Line',\n",
       "       'pregnancy_Status', 'regimen_Switch', 'vl_Indication',\n",
       "       'regimen_Line_At_Start', 'regimen_At_Start', 'bmi'],\n",
       "      dtype='object')"
      ]
     },
     "execution_count": 353,
     "metadata": {},
     "output_type": "execute_result"
    }
   ],
   "source": [
    "df_no_outliers.columns"
   ]
  },
  {
   "cell_type": "code",
   "execution_count": 354,
   "id": "c5af6455",
   "metadata": {},
   "outputs": [],
   "source": [
    "df_no_outliers.to_csv(\"Model1_Cleaned_Data.csv\")"
   ]
  },
  {
   "cell_type": "markdown",
   "id": "550ceeb2",
   "metadata": {},
   "source": [
    "## Machine Learning Algorithms"
   ]
  },
  {
   "cell_type": "markdown",
   "id": "d7c0367c",
   "metadata": {},
   "source": [
    "### Status at 18th Month in Treatment Prediction"
   ]
  },
  {
   "cell_type": "code",
   "execution_count": 355,
   "id": "16f1e496",
   "metadata": {},
   "outputs": [],
   "source": [
    "ltfu_data = df_no_outliers.drop([\"regimen_Line_At_Start\", \"regimen_At_Start\", \"regimen_Switch\",\"drug_Duration\", \"inh_Start_to_Now\", \"regimen_Dispensed\", \"current_Regimen_Line\"], axis=1)"
   ]
  },
  {
   "cell_type": "code",
   "execution_count": 356,
   "id": "b068130f",
   "metadata": {},
   "outputs": [],
   "source": [
    "y = ltfu_data"
   ]
  },
  {
   "cell_type": "code",
   "execution_count": 357,
   "id": "6c604d39",
   "metadata": {},
   "outputs": [],
   "source": [
    "#SPlit the dataset into training and testing sets, with a ratio of 70% and 30% respectively.\n",
    "X_train, X_test, y_train, y_test = train_test_split(y, X_status_at_18_months, test_size=0.3)"
   ]
  },
  {
   "cell_type": "code",
   "execution_count": 358,
   "id": "4de4ed1c",
   "metadata": {},
   "outputs": [],
   "source": [
    "y_train = np.array(y_train)\n",
    "y_test = np.array(y_test)"
   ]
  },
  {
   "cell_type": "code",
   "execution_count": 359,
   "id": "d4d59513",
   "metadata": {},
   "outputs": [],
   "source": [
    "# Set the random seed for NumPy\n",
    "np.random.seed(42)\n",
    "\n",
    "# Initializing a random forest classifier and parameters with random values to find the best one\n",
    "rfc = RandomForestClassifier(random_state = 42)\n",
    "\n",
    "parameters = {\n",
    "    \"n_estimators\":[5,10,50,100,250],\n",
    "    \"max_depth\":[2,4,8,16,32,None]\n",
    "}"
   ]
  },
  {
   "cell_type": "code",
   "execution_count": 360,
   "id": "68789722",
   "metadata": {},
   "outputs": [
    {
     "data": {
      "text/plain": [
       "GridSearchCV(cv=5, estimator=RandomForestClassifier(random_state=42),\n",
       "             param_grid={'max_depth': [2, 4, 8, 16, 32, None],\n",
       "                         'n_estimators': [5, 10, 50, 100, 250]})"
      ]
     },
     "execution_count": 360,
     "metadata": {},
     "output_type": "execute_result"
    }
   ],
   "source": [
    "# Performing 5 fold cross validation to find best set of parameters using grid seacr cv\n",
    "np.random.seed(124)\n",
    "cv = GridSearchCV(rfc,parameters,cv=5)\n",
    "cv.fit(X_train,y_train.ravel())"
   ]
  },
  {
   "cell_type": "code",
   "execution_count": 361,
   "id": "9d52dd00",
   "metadata": {},
   "outputs": [
    {
     "name": "stdout",
     "output_type": "stream",
     "text": [
      "Best parameters are: {'max_depth': 16, 'n_estimators': 250}\n",
      "\n",
      "\n",
      "0.993 + or -0.0 for the {'max_depth': 2, 'n_estimators': 5}\n",
      "0.993 + or -0.0 for the {'max_depth': 2, 'n_estimators': 10}\n",
      "0.993 + or -0.0 for the {'max_depth': 2, 'n_estimators': 50}\n",
      "0.993 + or -0.0 for the {'max_depth': 2, 'n_estimators': 100}\n",
      "0.993 + or -0.0 for the {'max_depth': 2, 'n_estimators': 250}\n",
      "0.993 + or -0.0 for the {'max_depth': 4, 'n_estimators': 5}\n",
      "0.994 + or -0.0 for the {'max_depth': 4, 'n_estimators': 10}\n",
      "0.994 + or -0.0 for the {'max_depth': 4, 'n_estimators': 50}\n",
      "0.994 + or -0.0 for the {'max_depth': 4, 'n_estimators': 100}\n",
      "0.994 + or -0.0 for the {'max_depth': 4, 'n_estimators': 250}\n",
      "0.994 + or -0.0 for the {'max_depth': 8, 'n_estimators': 5}\n",
      "0.994 + or -0.0 for the {'max_depth': 8, 'n_estimators': 10}\n",
      "0.994 + or -0.0 for the {'max_depth': 8, 'n_estimators': 50}\n",
      "0.994 + or -0.0 for the {'max_depth': 8, 'n_estimators': 100}\n",
      "0.994 + or -0.0 for the {'max_depth': 8, 'n_estimators': 250}\n",
      "0.995 + or -0.0 for the {'max_depth': 16, 'n_estimators': 5}\n",
      "0.995 + or -0.0 for the {'max_depth': 16, 'n_estimators': 10}\n",
      "0.995 + or -0.0 for the {'max_depth': 16, 'n_estimators': 50}\n",
      "0.995 + or -0.0 for the {'max_depth': 16, 'n_estimators': 100}\n",
      "0.995 + or -0.0 for the {'max_depth': 16, 'n_estimators': 250}\n",
      "0.994 + or -0.0 for the {'max_depth': 32, 'n_estimators': 5}\n",
      "0.995 + or -0.0 for the {'max_depth': 32, 'n_estimators': 10}\n",
      "0.995 + or -0.0 for the {'max_depth': 32, 'n_estimators': 50}\n",
      "0.995 + or -0.0 for the {'max_depth': 32, 'n_estimators': 100}\n",
      "0.995 + or -0.0 for the {'max_depth': 32, 'n_estimators': 250}\n",
      "0.994 + or -0.0 for the {'max_depth': None, 'n_estimators': 5}\n",
      "0.995 + or -0.0 for the {'max_depth': None, 'n_estimators': 10}\n",
      "0.995 + or -0.0 for the {'max_depth': None, 'n_estimators': 50}\n",
      "0.995 + or -0.0 for the {'max_depth': None, 'n_estimators': 100}\n",
      "0.995 + or -0.0 for the {'max_depth': None, 'n_estimators': 250}\n"
     ]
    }
   ],
   "source": [
    "best_param = {'max_depth': 16, 'n_estimators': 250}\n",
    "# Display CV results\n",
    "def display(results):\n",
    "    print(f'Best parameters are: {results.best_params_}')\n",
    "    print(\"\\n\")\n",
    "    mean_score = results.cv_results_['mean_test_score']\n",
    "    std_score = results.cv_results_['std_test_score']\n",
    "    params = results.cv_results_['params']\n",
    "    for mean,std,params in zip(mean_score,std_score,params):\n",
    "        print(f'{round(mean,3)} + or -{round(std,3)} for the {params}')\n",
    "    return results.best_params_\n",
    "best_param = display(cv)"
   ]
  },
  {
   "cell_type": "code",
   "execution_count": 362,
   "id": "c7f54de4",
   "metadata": {},
   "outputs": [
    {
     "name": "stderr",
     "output_type": "stream",
     "text": [
      "/var/folders/0d/fd1ff_1s1m774k18f9wq04880000gn/T/ipykernel_56589/575316264.py:4: DataConversionWarning: A column-vector y was passed when a 1d array was expected. Please change the shape of y to (n_samples,), for example using ravel().\n",
      "  clf.fit(X_train,y_train)\n"
     ]
    },
    {
     "data": {
      "text/plain": [
       "RandomForestClassifier(max_depth=16, n_estimators=250)"
      ]
     },
     "execution_count": 362,
     "metadata": {},
     "output_type": "execute_result"
    }
   ],
   "source": [
    "#Import Random Forest Classifier and fit the model.\n",
    "random.seed(1)\n",
    "clf = RandomForestClassifier(max_depth = best_param['max_depth'], n_estimators = best_param['n_estimators'])\n",
    "clf.fit(X_train,y_train)"
   ]
  },
  {
   "cell_type": "code",
   "execution_count": 363,
   "id": "b2ee3370",
   "metadata": {},
   "outputs": [
    {
     "name": "stdout",
     "output_type": "stream",
     "text": [
      "Accuracy: 0.9948293546528783\n"
     ]
    }
   ],
   "source": [
    "y_pred = clf.predict(X_test)\n",
    "print(\"Accuracy:\",metrics.accuracy_score(y_test, y_pred))"
   ]
  },
  {
   "cell_type": "code",
   "execution_count": 364,
   "id": "f7ec3b52",
   "metadata": {},
   "outputs": [
    {
     "name": "stdout",
     "output_type": "stream",
     "text": [
      "[[70647    50]\n",
      " [  318   156]]\n"
     ]
    }
   ],
   "source": [
    "#Printing classification report\n",
    "print(confusion_matrix(y_test, y_pred))"
   ]
  },
  {
   "cell_type": "code",
   "execution_count": 365,
   "id": "c11685fd",
   "metadata": {},
   "outputs": [
    {
     "name": "stderr",
     "output_type": "stream",
     "text": [
      "No artists with labels found to put in legend.  Note that artists whose label start with an underscore are ignored when legend() is called with no argument.\n"
     ]
    },
    {
     "data": {
      "image/png": "[encoded data removed]",
      "text/plain": [
       "<Figure size 720x432 with 1 Axes>"
      ]
     },
     "metadata": {
      "needs_background": "light"
     },
     "output_type": "display_data"
    }
   ],
   "source": [
    "# Show features with their importance value. The higer the value the more important the variable is in estimation of our target\n",
    "# variable.\n",
    "feature_imp = pd.Series(clf.feature_importances_, index = ltfu_data.columns).sort_values(ascending=False)\n",
    "\n",
    "#Creating a bar plot for features importance.\n",
    "# Set the figure size\n",
    "plt.figure(figsize=(10, 6))\n",
    "sns.barplot(x=feature_imp, y=feature_imp.index)\n",
    "#Add labels to your graph\n",
    "plt.xlabel('Feature Importance Score')\n",
    "plt.ylabel('Features')\n",
    "plt.title(\"Visualizing Important Features\")\n",
    "plt.legend()\n",
    "plt.show()"
   ]
  },
  {
   "cell_type": "code",
   "execution_count": 366,
   "id": "8c88b185",
   "metadata": {},
   "outputs": [
    {
     "data": {
      "text/plain": [
       "['random_forest_model_status_at_18th_month.pkl']"
      ]
     },
     "execution_count": 366,
     "metadata": {},
     "output_type": "execute_result"
    }
   ],
   "source": [
    "import joblib\n",
    "joblib.dump(clf, 'random_forest_model_status_at_18th_month.pkl')"
   ]
  },
  {
   "cell_type": "markdown",
   "id": "a9709bee",
   "metadata": {},
   "source": [
    "### Predicting Patient Interruption point"
   ]
  },
  {
   "cell_type": "code",
   "execution_count": 367,
   "id": "e51977c8",
   "metadata": {},
   "outputs": [],
   "source": [
    "\n",
    "useable_df_model_2 = df_model_2[df_model_2[\"status_at_18_months\"] == \"InActive\"]\n",
    "X_Total_Visits = useable_df_model_2[['Total_Visits']]\n",
    "useable_df_model_2 = useable_df_model_2.drop(['status_at_18_months', 'Total_Visits'], axis = 1)\n",
    "\n",
    "# Label encoding all numeric columns\n",
    "# Iterate over each column in the DataFrame\n",
    "for column in useable_df_model_2.select_dtypes(include='object').columns:\n",
    "    le = LabelEncoder()\n",
    "    useable_df_model_2[column] = le.fit_transform(useable_df_model_2[column].astype(str))\n",
    "\n",
    "useable_df_model_2.columns\n",
    "\n",
    "useable_df_model_2.to_csv(\"Model2_Cleaned_Data.csv\")\n"
   ]
  },
  {
   "cell_type": "code",
   "execution_count": 368,
   "id": "b3af5702",
   "metadata": {},
   "outputs": [],
   "source": [
    "#SPlit the dataset into training and testing sets, with a ratio of 70% and 30% respectively.\n",
    "X_train, X_test, y_train, y_test = train_test_split(useable_df_model_2, X_Total_Visits, test_size=0.3)\n"
   ]
  },
  {
   "cell_type": "code",
   "execution_count": 369,
   "id": "a87ad46e",
   "metadata": {},
   "outputs": [
    {
     "data": {
      "text/html": [
       "<div>\n",
       "<style scoped>\n",
       "    .dataframe tbody tr th:only-of-type {\n",
       "        vertical-align: middle;\n",
       "    }\n",
       "\n",
       "    .dataframe tbody tr th {\n",
       "        vertical-align: top;\n",
       "    }\n",
       "\n",
       "    .dataframe thead th {\n",
       "        text-align: right;\n",
       "    }\n",
       "</style>\n",
       "<table border=\"1\" class=\"dataframe\">\n",
       "  <thead>\n",
       "    <tr style=\"text-align: right;\">\n",
       "      <th></th>\n",
       "      <th>vl_Count</th>\n",
       "      <th>drug_Duration</th>\n",
       "      <th>age_At_Art_Start</th>\n",
       "      <th>who_Stage</th>\n",
       "      <th>inh_Start_to_Now</th>\n",
       "      <th>state</th>\n",
       "      <th>age_Group</th>\n",
       "      <th>sex</th>\n",
       "      <th>regimen_Dispensed</th>\n",
       "      <th>biometric</th>\n",
       "      <th>careEntryPoint</th>\n",
       "      <th>current_Regimen_Line</th>\n",
       "      <th>pregnancy_Status</th>\n",
       "      <th>regimen_Switch</th>\n",
       "      <th>vl_Indication</th>\n",
       "      <th>regimen_Line_At_Start</th>\n",
       "      <th>regimen_At_Start</th>\n",
       "      <th>bmi</th>\n",
       "    </tr>\n",
       "  </thead>\n",
       "  <tbody>\n",
       "    <tr>\n",
       "      <th>6</th>\n",
       "      <td>53.0</td>\n",
       "      <td>90.0</td>\n",
       "      <td>26.0</td>\n",
       "      <td>1.0</td>\n",
       "      <td>294.0</td>\n",
       "      <td>0</td>\n",
       "      <td>2</td>\n",
       "      <td>1</td>\n",
       "      <td>3</td>\n",
       "      <td>1</td>\n",
       "      <td>6</td>\n",
       "      <td>2</td>\n",
       "      <td>1</td>\n",
       "      <td>1</td>\n",
       "      <td>0</td>\n",
       "      <td>0</td>\n",
       "      <td>3</td>\n",
       "      <td>0</td>\n",
       "    </tr>\n",
       "    <tr>\n",
       "      <th>7</th>\n",
       "      <td>0.0</td>\n",
       "      <td>90.0</td>\n",
       "      <td>21.0</td>\n",
       "      <td>1.0</td>\n",
       "      <td>294.0</td>\n",
       "      <td>0</td>\n",
       "      <td>1</td>\n",
       "      <td>1</td>\n",
       "      <td>3</td>\n",
       "      <td>1</td>\n",
       "      <td>6</td>\n",
       "      <td>2</td>\n",
       "      <td>1</td>\n",
       "      <td>1</td>\n",
       "      <td>0</td>\n",
       "      <td>0</td>\n",
       "      <td>3</td>\n",
       "      <td>0</td>\n",
       "    </tr>\n",
       "    <tr>\n",
       "      <th>18</th>\n",
       "      <td>47.0</td>\n",
       "      <td>90.0</td>\n",
       "      <td>24.0</td>\n",
       "      <td>1.0</td>\n",
       "      <td>297.0</td>\n",
       "      <td>0</td>\n",
       "      <td>2</td>\n",
       "      <td>1</td>\n",
       "      <td>3</td>\n",
       "      <td>1</td>\n",
       "      <td>6</td>\n",
       "      <td>2</td>\n",
       "      <td>1</td>\n",
       "      <td>1</td>\n",
       "      <td>3</td>\n",
       "      <td>0</td>\n",
       "      <td>3</td>\n",
       "      <td>0</td>\n",
       "    </tr>\n",
       "    <tr>\n",
       "      <th>51</th>\n",
       "      <td>40.0</td>\n",
       "      <td>90.0</td>\n",
       "      <td>22.0</td>\n",
       "      <td>1.0</td>\n",
       "      <td>300.0</td>\n",
       "      <td>0</td>\n",
       "      <td>1</td>\n",
       "      <td>1</td>\n",
       "      <td>3</td>\n",
       "      <td>1</td>\n",
       "      <td>6</td>\n",
       "      <td>2</td>\n",
       "      <td>1</td>\n",
       "      <td>1</td>\n",
       "      <td>0</td>\n",
       "      <td>0</td>\n",
       "      <td>3</td>\n",
       "      <td>0</td>\n",
       "    </tr>\n",
       "    <tr>\n",
       "      <th>79</th>\n",
       "      <td>40.0</td>\n",
       "      <td>90.0</td>\n",
       "      <td>24.0</td>\n",
       "      <td>1.0</td>\n",
       "      <td>299.0</td>\n",
       "      <td>0</td>\n",
       "      <td>2</td>\n",
       "      <td>1</td>\n",
       "      <td>3</td>\n",
       "      <td>1</td>\n",
       "      <td>6</td>\n",
       "      <td>2</td>\n",
       "      <td>1</td>\n",
       "      <td>1</td>\n",
       "      <td>0</td>\n",
       "      <td>0</td>\n",
       "      <td>3</td>\n",
       "      <td>0</td>\n",
       "    </tr>\n",
       "  </tbody>\n",
       "</table>\n",
       "</div>"
      ],
      "text/plain": [
       "    vl_Count  drug_Duration  age_At_Art_Start  who_Stage  inh_Start_to_Now  \\\n",
       "6       53.0           90.0              26.0        1.0             294.0   \n",
       "7        0.0           90.0              21.0        1.0             294.0   \n",
       "18      47.0           90.0              24.0        1.0             297.0   \n",
       "51      40.0           90.0              22.0        1.0             300.0   \n",
       "79      40.0           90.0              24.0        1.0             299.0   \n",
       "\n",
       "    state  age_Group  sex  regimen_Dispensed  biometric  careEntryPoint  \\\n",
       "6       0          2    1                  3          1               6   \n",
       "7       0          1    1                  3          1               6   \n",
       "18      0          2    1                  3          1               6   \n",
       "51      0          1    1                  3          1               6   \n",
       "79      0          2    1                  3          1               6   \n",
       "\n",
       "    current_Regimen_Line  pregnancy_Status  regimen_Switch  vl_Indication  \\\n",
       "6                      2                 1               1              0   \n",
       "7                      2                 1               1              0   \n",
       "18                     2                 1               1              3   \n",
       "51                     2                 1               1              0   \n",
       "79                     2                 1               1              0   \n",
       "\n",
       "    regimen_Line_At_Start  regimen_At_Start  bmi  \n",
       "6                       0                 3    0  \n",
       "7                       0                 3    0  \n",
       "18                      0                 3    0  \n",
       "51                      0                 3    0  \n",
       "79                      0                 3    0  "
      ]
     },
     "execution_count": 369,
     "metadata": {},
     "output_type": "execute_result"
    }
   ],
   "source": [
    "useable_df_model_2.head()"
   ]
  },
  {
   "cell_type": "code",
   "execution_count": 370,
   "id": "cb3dc02c",
   "metadata": {},
   "outputs": [
    {
     "name": "stdout",
     "output_type": "stream",
     "text": [
      "Best parameters are: {'max_depth': 2, 'n_estimators': 250}\n",
      "\n",
      "\n",
      "0.484 + or -0.007 for the {'max_depth': 2, 'n_estimators': 5}\n",
      "0.488 + or -0.002 for the {'max_depth': 2, 'n_estimators': 10}\n",
      "0.488 + or -0.003 for the {'max_depth': 2, 'n_estimators': 50}\n",
      "0.488 + or -0.004 for the {'max_depth': 2, 'n_estimators': 100}\n",
      "0.489 + or -0.003 for the {'max_depth': 2, 'n_estimators': 250}\n",
      "0.482 + or -0.015 for the {'max_depth': 4, 'n_estimators': 5}\n",
      "0.48 + or -0.013 for the {'max_depth': 4, 'n_estimators': 10}\n",
      "0.487 + or -0.007 for the {'max_depth': 4, 'n_estimators': 50}\n",
      "0.486 + or -0.011 for the {'max_depth': 4, 'n_estimators': 100}\n",
      "0.483 + or -0.013 for the {'max_depth': 4, 'n_estimators': 250}\n",
      "0.454 + or -0.015 for the {'max_depth': 8, 'n_estimators': 5}\n",
      "0.456 + or -0.017 for the {'max_depth': 8, 'n_estimators': 10}\n",
      "0.47 + or -0.013 for the {'max_depth': 8, 'n_estimators': 50}\n",
      "0.471 + or -0.01 for the {'max_depth': 8, 'n_estimators': 100}\n",
      "0.475 + or -0.016 for the {'max_depth': 8, 'n_estimators': 250}\n",
      "0.426 + or -0.012 for the {'max_depth': 16, 'n_estimators': 5}\n",
      "0.422 + or -0.019 for the {'max_depth': 16, 'n_estimators': 10}\n",
      "0.438 + or -0.012 for the {'max_depth': 16, 'n_estimators': 50}\n",
      "0.439 + or -0.02 for the {'max_depth': 16, 'n_estimators': 100}\n",
      "0.445 + or -0.02 for the {'max_depth': 16, 'n_estimators': 250}\n",
      "0.42 + or -0.023 for the {'max_depth': 32, 'n_estimators': 5}\n",
      "0.424 + or -0.017 for the {'max_depth': 32, 'n_estimators': 10}\n",
      "0.41 + or -0.02 for the {'max_depth': 32, 'n_estimators': 50}\n",
      "0.416 + or -0.017 for the {'max_depth': 32, 'n_estimators': 100}\n",
      "0.428 + or -0.02 for the {'max_depth': 32, 'n_estimators': 250}\n",
      "0.422 + or -0.025 for the {'max_depth': None, 'n_estimators': 5}\n",
      "0.423 + or -0.016 for the {'max_depth': None, 'n_estimators': 10}\n",
      "0.41 + or -0.021 for the {'max_depth': None, 'n_estimators': 50}\n",
      "0.414 + or -0.017 for the {'max_depth': None, 'n_estimators': 100}\n",
      "0.425 + or -0.026 for the {'max_depth': None, 'n_estimators': 250}\n"
     ]
    }
   ],
   "source": [
    "# Performing 5 fold cross validation to find best set of parameters using grid seacr cv\n",
    "np.random.seed(124)\n",
    "cv = GridSearchCV(rfc,parameters,cv=5)\n",
    "cv.fit(X_train,y_train.values.ravel())\n",
    "best_param = display(cv)"
   ]
  },
  {
   "cell_type": "code",
   "execution_count": 371,
   "id": "fe0ef2ba",
   "metadata": {},
   "outputs": [
    {
     "name": "stdout",
     "output_type": "stream",
     "text": [
      "Best Param Variable: {'max_depth': 2, 'n_estimators': 250}\n",
      "2\n",
      "250\n"
     ]
    }
   ],
   "source": [
    "\n",
    "print(f\"Best Param Variable: {best_param}\")\n",
    "print(best_param['max_depth'])\n",
    "print(best_param['n_estimators'])"
   ]
  },
  {
   "cell_type": "code",
   "execution_count": 372,
   "id": "f8d2f66d",
   "metadata": {},
   "outputs": [
    {
     "name": "stderr",
     "output_type": "stream",
     "text": [
      "/var/folders/0d/fd1ff_1s1m774k18f9wq04880000gn/T/ipykernel_56589/2741823010.py:4: DataConversionWarning: A column-vector y was passed when a 1d array was expected. Please change the shape of y to (n_samples,), for example using ravel().\n",
      "  clf2.fit(X_train,y_train)\n"
     ]
    },
    {
     "data": {
      "text/plain": [
       "RandomForestClassifier(max_depth=2, n_estimators=250)"
      ]
     },
     "execution_count": 372,
     "metadata": {},
     "output_type": "execute_result"
    }
   ],
   "source": [
    "#Import Random Forest Classifier and fit the model.\n",
    "random.seed(1)\n",
    "clf2 = RandomForestClassifier(max_depth = best_param['max_depth'], n_estimators = best_param['n_estimators'])\n",
    "clf2.fit(X_train,y_train)"
   ]
  },
  {
   "cell_type": "code",
   "execution_count": 373,
   "id": "a7870795",
   "metadata": {},
   "outputs": [
    {
     "name": "stdout",
     "output_type": "stream",
     "text": [
      "Accuracy: 0.4790794979079498\n"
     ]
    }
   ],
   "source": [
    "y_pred = clf2.predict(X_test)\n",
    "print(\"Accuracy:\",metrics.accuracy_score(y_test, y_pred))"
   ]
  },
  {
   "cell_type": "code",
   "execution_count": 374,
   "id": "46eb5462",
   "metadata": {},
   "outputs": [
    {
     "name": "stdout",
     "output_type": "stream",
     "text": [
      "[1.]\n"
     ]
    }
   ],
   "source": [
    "print(clf2.predict(useable_df_model_2[:1]))"
   ]
  },
  {
   "cell_type": "code",
   "execution_count": 375,
   "id": "a2b0c1e7",
   "metadata": {},
   "outputs": [
    {
     "name": "stdout",
     "output_type": "stream",
     "text": [
      "[[229   0   0]\n",
      " [ 58   0   0]\n",
      " [191   0   0]]\n"
     ]
    }
   ],
   "source": [
    "#Printing classification report\n",
    "print(confusion_matrix(y_test, y_pred))"
   ]
  },
  {
   "cell_type": "code",
   "execution_count": 376,
   "id": "1bf5e6f0",
   "metadata": {},
   "outputs": [
    {
     "name": "stdout",
     "output_type": "stream",
     "text": [
      "              precision    recall  f1-score   support\n",
      "\n",
      "         1.0       0.48      1.00      0.65       229\n",
      "         2.0       0.00      0.00      0.00        58\n",
      "         3.0       0.00      0.00      0.00       191\n",
      "\n",
      "    accuracy                           0.48       478\n",
      "   macro avg       0.16      0.33      0.22       478\n",
      "weighted avg       0.23      0.48      0.31       478\n",
      "\n"
     ]
    },
    {
     "name": "stderr",
     "output_type": "stream",
     "text": [
      "/Users/admin/opt/anaconda3/lib/python3.9/site-packages/sklearn/metrics/_classification.py:1318: UndefinedMetricWarning: Precision and F-score are ill-defined and being set to 0.0 in labels with no predicted samples. Use `zero_division` parameter to control this behavior.\n",
      "  _warn_prf(average, modifier, msg_start, len(result))\n",
      "/Users/admin/opt/anaconda3/lib/python3.9/site-packages/sklearn/metrics/_classification.py:1318: UndefinedMetricWarning: Precision and F-score are ill-defined and being set to 0.0 in labels with no predicted samples. Use `zero_division` parameter to control this behavior.\n",
      "  _warn_prf(average, modifier, msg_start, len(result))\n",
      "/Users/admin/opt/anaconda3/lib/python3.9/site-packages/sklearn/metrics/_classification.py:1318: UndefinedMetricWarning: Precision and F-score are ill-defined and being set to 0.0 in labels with no predicted samples. Use `zero_division` parameter to control this behavior.\n",
      "  _warn_prf(average, modifier, msg_start, len(result))\n"
     ]
    }
   ],
   "source": [
    "#Printing classification report\n",
    "print(classification_report(y_test, y_pred))"
   ]
  },
  {
   "cell_type": "code",
   "execution_count": 377,
   "id": "5272378d",
   "metadata": {},
   "outputs": [
    {
     "name": "stderr",
     "output_type": "stream",
     "text": [
      "No artists with labels found to put in legend.  Note that artists whose label start with an underscore are ignored when legend() is called with no argument.\n"
     ]
    },
    {
     "data": {
      "image/png": "[encoded data removed]",
      "text/plain": [
       "<Figure size 720x432 with 1 Axes>"
      ]
     },
     "metadata": {
      "needs_background": "light"
     },
     "output_type": "display_data"
    }
   ],
   "source": [
    "# Show features with their importance value. The higer the value the more important the variable is in estimation of our target\n",
    "# variable.\n",
    "feature_imp = pd.Series(clf2.feature_importances_, index = df_no_outliers.columns).sort_values(ascending=False)\n",
    "\n",
    "#Creating a bar plot for features importance.\n",
    "# Set the figure size\n",
    "plt.figure(figsize=(10, 6))\n",
    "sns.barplot(x=feature_imp, y=feature_imp.index)\n",
    "#Add labels to your graph\n",
    "plt.xlabel('Feature Importance Score')\n",
    "plt.ylabel('Features')\n",
    "plt.title(\"Visualizing Important Features\")\n",
    "plt.legend()\n",
    "plt.show()"
   ]
  },
  {
   "cell_type": "code",
   "execution_count": 378,
   "id": "811eb0dc",
   "metadata": {},
   "outputs": [
    {
     "data": {
      "text/plain": [
       "['random_forest_model_number_of_visit_before_interruption.pkl']"
      ]
     },
     "execution_count": 378,
     "metadata": {},
     "output_type": "execute_result"
    }
   ],
   "source": [
    "joblib.dump(clf2, 'random_forest_model_number_of_visit_before_interruption.pkl')"
   ]
  },
  {
   "cell_type": "code",
   "execution_count": 379,
   "id": "0c6f7165",
   "metadata": {},
   "outputs": [],
   "source": [
    "# Predict Status_at_18th_Month\n",
    "def predict_status(data):   \n",
    "    clf = joblib.load(\"random_forest_model_status_at_18th_month.pkl\")\n",
    "    return clf.predict(data)"
   ]
  },
  {
   "cell_type": "code",
   "execution_count": 380,
   "id": "6e6fe933",
   "metadata": {},
   "outputs": [],
   "source": [
    "# Predict Number of Visit Before Defaulting\n",
    "def predict_number_of_visits(data):\n",
    "    clf = joblib.load(\"random_forest_model_number_of_visit_before_interruption.pkl\")\n",
    "    return clf.predict(data)"
   ]
  }
 ],
 "metadata": {
  "kernelspec": {
   "display_name": "Python 3 (ipykernel)",
   "language": "python",
   "name": "python3"
  },
  "language_info": {
   "codemirror_mode": {
    "name": "ipython",
    "version": 3
   },
   "file_extension": ".py",
   "mimetype": "text/x-python",
   "name": "python",
   "nbconvert_exporter": "python",
   "pygments_lexer": "ipython3",
   "version": "3.9.12"
  }
 },
 "nbformat": 4,
 "nbformat_minor": 5
}
